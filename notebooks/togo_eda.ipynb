{
 "cells": [
  {
   "cell_type": "markdown",
   "id": "f8dbb09f",
   "metadata": {},
   "source": [
    "# Togo Solar Data EDA\n",
    "\n",
    "**Objective:** Profile, clean, and explore Togo’s solar dataset to prepare it for comparison and region-ranking tasks. This notebook covers summary statistics, missing value analysis, outlier detection, cleaning, and exploratory visualizations."
   ]
  },
  {
   "cell_type": "code",
   "execution_count": null,
   "id": "79e5cb2c",
   "metadata": {},
   "outputs": [],
   "source": [
    "# Import required libraries\n",
    "import pandas as pd\n",
    "import numpy as np\n",
    "import matplotlib.pyplot as plt\n",
    "import seaborn as sns\n",
    "from scipy.stats import zscore\n",
    "import plotly.express as px\n",
    "import plotly.graph_objects as go\n",
    "import warnings\n",
    "warnings.filterwarnings('ignore')\n",
    "\n",
    "# Set display options\n",
    "pd.set_option('display.max_columns', None)\n",
    "plt.style.use('seaborn-v0_8')"
   ]
  },
  {
   "cell_type": "code",
   "execution_count": null,
   "id": "f27535d4",
   "metadata": {},
   "outputs": [],
   "source": [
    "# Load the Togo solar dataset\n",
    "file_path = '../data/togo-dapaong_qc.csv'\n",
    "df = pd.read_csv(file_path, parse_dates=['Timestamp'], infer_datetime_format=True)\n",
    "df.head()"
   ]
  },
  {
   "cell_type": "code",
   "execution_count": null,
   "id": "7ad52592",
   "metadata": {},
   "outputs": [],
   "source": [
    "# Summary statistics for numeric columns\n",
    "summary_stats = df.describe()\n",
    "display(summary_stats)\n",
    "\n",
    "# Missing value report\n",
    "missing_report = df.isna().sum().to_frame('missing_count')\n",
    "missing_report['missing_pct'] = 100 * missing_report['missing_count'] / len(df)\n",
    "missing_report = missing_report[missing_report['missing_count'] > 0]\n",
    "display(missing_report)\n",
    "\n",
    "# List columns with >5% nulls\n",
    "high_null_cols = missing_report[missing_report['missing_pct'] > 5]\n",
    "high_null_cols"
   ]
  },
  {
   "cell_type": "code",
   "execution_count": null,
   "id": "bf5f2149",
   "metadata": {},
   "outputs": [],
   "source": [
    "# Outlier detection using Z-score for key columns\n",
    "key_cols = ['GHI', 'DNI', 'DHI', 'ModA', 'ModB', 'WS', 'WSgust']\n",
    "for col in key_cols:\n",
    "    if col in df.columns:\n",
    "        df[col + '_zscore'] = zscore(df[col].astype(float), nan_policy='omit')\n",
    "        df[col + '_outlier'] = df[col + '_zscore'].abs() > 3\n",
    "\n",
    "# Count outliers per column\n",
    "outlier_counts = {col: df[col + '_outlier'].sum() for col in key_cols if col + '_outlier' in df.columns}\n",
    "outlier_counts"
   ]
  },
  {
   "cell_type": "code",
   "execution_count": null,
   "id": "35dd3e22",
   "metadata": {},
   "outputs": [],
   "source": [
    "# Impute or drop missing values in key columns\n",
    "for col in key_cols:\n",
    "    if col in df.columns:\n",
    "        if df[col].isna().sum() > 0:\n",
    "            median_val = df[col].median()\n",
    "            df[col].fillna(median_val, inplace=True)\n",
    "\n",
    "df.dropna(subset=key_cols, inplace=True)\n",
    "\n",
    "# Remove outliers\n",
    "for col in key_cols:\n",
    "    if col + '_outlier' in df.columns:\n",
    "        df = df[~df[col + '_outlier']]\n",
    "\n",
    "df.drop(columns=[c for c in df.columns if c.endswith('_zscore') or c.endswith('_outlier')], inplace=True)\n",
    "df.reset_index(drop=True, inplace=True)\n",
    "df.head()"
   ]
  },
  {
   "cell_type": "code",
   "execution_count": null,
   "id": "07f72b2d",
   "metadata": {},
   "outputs": [],
   "source": [
    "# Export cleaned DataFrame to CSV (do not commit CSVs to git)\n",
    "clean_path = '../data/togo_clean.csv'\n",
    "df.to_csv(clean_path, index=False)\n",
    "print(f'Cleaned data exported to {clean_path}')"
   ]
  },
  {
   "cell_type": "code",
   "execution_count": null,
   "id": "b6e1a1da",
   "metadata": {},
   "outputs": [],
   "source": [
    "# Time Series Analysis: GHI, DNI, DHI, Tamb vs. Timestamp\n",
    "plot_cols = ['GHI', 'DNI', 'DHI', 'Tamb']\n",
    "fig, axs = plt.subplots(len(plot_cols), 1, figsize=(14, 3 * len(plot_cols)), sharex=True)\n",
    "for i, col in enumerate(plot_cols):\n",
    "    if col in df.columns:\n",
    "        axs[i].plot(df['Timestamp'], df[col], label=col)\n",
    "        axs[i].set_ylabel(col)\n",
    "        axs[i].legend()\n",
    "axs[-1].set_xlabel('Timestamp')\n",
    "plt.tight_layout()\n",
    "plt.show()"
   ]
  },
  {
   "cell_type": "code",
   "execution_count": null,
   "id": "0b34f52a",
   "metadata": {},
   "outputs": [],
   "source": [
    "# Cleaning Impact: Average ModA & ModB pre/post-clean\n",
    "if 'Cleaning' in df.columns:\n",
    "    cleaning_group = df.groupby('Cleaning')[['ModA', 'ModB']].mean().reset_index()\n",
    "    cleaning_group.plot(x='Cleaning', y=['ModA', 'ModB'], kind='bar', figsize=(8,5))\n",
    "    plt.title('Average ModA & ModB Pre/Post Clean')\n",
    "    plt.ylabel('Average Value')\n",
    "    plt.show()\n",
    "else:\n",
    "    print('No Cleaning flag column found in data.')"
   ]
  },
  {
   "cell_type": "code",
   "execution_count": null,
   "id": "b35254d0",
   "metadata": {},
   "outputs": [],
   "source": [
    "# Correlation Heatmap\n",
    "corr_cols = ['GHI', 'DNI', 'DHI', 'TModA', 'TModB']\n",
    "corr_data = df[[col for col in corr_cols if col in df.columns]]\n",
    "plt.figure(figsize=(8,6))\n",
    "sns.heatmap(corr_data.corr(), annot=True, cmap='coolwarm', fmt='.2f')\n",
    "plt.title('Correlation Heatmap')\n",
    "plt.show()\n",
    "\n",
    "# Scatter plots: WS, WSgust, WD vs. GHI; RH vs. Tamb or RH vs. GHI\n",
    "scatter_pairs = [\n",
    "    ('WS', 'GHI'),\n",
    "    ('WSgust', 'GHI'),\n",
    "    ('WD', 'GHI'),\n",
    "    ('RH', 'Tamb'),\n",
    "    ('RH', 'GHI')\n",
    "]\n",
    "for x, y in scatter_pairs:\n",
    "    if x in df.columns and y in df.columns:\n",
    "        plt.figure(figsize=(6,4))\n",
    "        sns.scatterplot(data=df, x=x, y=y, alpha=0.5)\n",
    "        plt.title(f'{x} vs. {y}')\n",
    "        plt.show()"
   ]
  },
  {
   "cell_type": "code",
   "execution_count": null,
   "id": "ce0b26fa",
   "metadata": {},
   "outputs": [],
   "source": [
    "# Wind Rose / Radial Bar Plot for WS/WD\n",
    "if 'WS' in df.columns and 'WD' in df.columns:\n",
    "    import plotly.figure_factory as ff\n",
    "    fig = px.bar_polar(df, r='WS', theta='WD', color='WS',\n",
    "                      color_continuous_scale=px.colors.sequential.Plasma,\n",
    "                      title='Wind Rose: Wind Speed by Direction')\n",
    "    fig.show()\n",
    "else:\n",
    "    print('WS or WD column not found for wind rose plot.')\n",
    "\n",
    "# Histograms for GHI and WS\n",
    "for col in ['GHI', 'WS']:\n",
    "    if col in df.columns:\n",
    "        plt.figure(figsize=(6,4))\n",
    "        sns.histplot(df[col], bins=30, kde=True)\n",
    "        plt.title(f'Histogram of {col}')\n",
    "        plt.xlabel(col)\n",
    "        plt.ylabel('Frequency')\n",
    "        plt.show()"
   ]
  },
  {
   "cell_type": "code",
   "execution_count": null,
   "id": "0d0b06bf",
   "metadata": {},
   "outputs": [],
   "source": [
    "# Temperature Analysis: RH influence on Tamb and GHI\n",
    "if 'RH' in df.columns and 'Tamb' in df.columns:\n",
    "    plt.figure(figsize=(6,4))\n",
    "    sns.scatterplot(data=df, x='RH', y='Tamb', alpha=0.5)\n",
    "    plt.title('Relative Humidity vs. Ambient Temperature')\n",
    "    plt.show()\n",
    "if 'RH' in df.columns and 'GHI' in df.columns:\n",
    "    plt.figure(figsize=(6,4))\n",
    "    sns.scatterplot(data=df, x='RH', y='GHI', alpha=0.5)\n",
    "    plt.title('Relative Humidity vs. GHI')\n",
    "    plt.show()\n",
    "\n",
    "# Bubble Chart: GHI vs. Tamb, bubble size = RH or BP\n",
    "bubble_size = 'RH' if 'RH' in df.columns else ('BP' if 'BP' in df.columns else None)\n",
    "if 'GHI' in df.columns and 'Tamb' in df.columns and bubble_size:\n",
    "    fig = px.scatter(df, x='GHI', y='Tamb', size=bubble_size, color=bubble_size,\n",
    "                     title=f'GHI vs. Tamb (Bubble size = {bubble_size})',\n",
    "                     labels={'GHI': 'Global Horizontal Irradiance', 'Tamb': 'Ambient Temperature', bubble_size: bubble_size})\n",
    "    fig.show()\n",
    "else:\n",
    "    print('Required columns for bubble chart not found.')"
   ]
  },
  {
   "cell_type": "markdown",
   "id": "4aa3bcd3",
   "metadata": {},
   "source": [
    "## EDA Best Practices & References\n",
    "- Always inspect data types, missing values, and outliers before analysis.\n",
    "- Use visualizations (line, bar, scatter, heatmap, histograms) to uncover trends and relationships.\n",
    "- Impute or drop missing/outlier values based on domain knowledge and data distribution.\n",
    "- Document cleaning steps for reproducibility.\n",
    "- For time series, check for seasonality, trends, and anomalies.\n",
    "- Use correlation and scatter plots to identify key drivers and relationships.\n",
    "- For wind data, wind rose plots are effective for directionality.\n",
    "- Share actionable insights, not just plots.\n",
    "\n",
    "**References:**\n",
    "- [Pandas EDA Guide](https://pandas.pydata.org/pandas-docs/stable/user_guide/visualization.html)\n",
    "- [Seaborn Statistical Data Visualization](https://seaborn.pydata.org/examples/index.html)\n",
    "- [Plotly Express Gallery](https://plotly.com/python/plotly-express/)\n",
    "- [Wind Rose Plotting in Python](https://python-windrose.readthedocs.io/en/latest/)\n",
    "- [Data Cleaning Techniques](https://www.dataquest.io/blog/data-cleaning/)\n",
    "\n",
    "*This notebook demonstrates a full EDA workflow, preparing the Togo solar dataset for further analysis and comparison.*"
   ]
  }
 ],
 "metadata": {
  "language_info": {
   "name": "python"
  }
 },
 "nbformat": 4,
 "nbformat_minor": 5
}
